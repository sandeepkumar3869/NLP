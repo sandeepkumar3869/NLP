{
 "cells": [
  {
   "cell_type": "code",
   "execution_count": 14,
   "id": "9744ddc5-faee-4c91-8acd-a1657b3a4f01",
   "metadata": {},
   "outputs": [
    {
     "ename": "AttributeError",
     "evalue": "'NoneType' object has no attribute 'definition'",
     "output_type": "error",
     "traceback": [
      "\u001b[0;31m---------------------------------------------------------------------------\u001b[0m",
      "\u001b[0;31mAttributeError\u001b[0m                            Traceback (most recent call last)",
      "Cell \u001b[0;32mIn[14], line 15\u001b[0m\n\u001b[1;32m     12\u001b[0m sense \u001b[38;5;241m=\u001b[39m lesk(tokens, \u001b[38;5;124m\"\u001b[39m\u001b[38;5;124mto\u001b[39m\u001b[38;5;124m\"\u001b[39m)\n\u001b[1;32m     14\u001b[0m \u001b[38;5;66;03m# Print definition of which makes most sense\u001b[39;00m\n\u001b[0;32m---> 15\u001b[0m \u001b[38;5;28mprint\u001b[39m(sense\u001b[38;5;241m.\u001b[39mdefinition())\n",
      "\u001b[0;31mAttributeError\u001b[0m: 'NoneType' object has no attribute 'definition'"
     ]
    }
   ],
   "source": [
    "import nltk\n",
    "from nltk.corpus import semcor\n",
    "from nltk.wsd import lesk\n",
    "\n",
    "# Load SemCor corpus\n",
    "corpus = semcor.raw()[0]\n",
    "\n",
    "# Tokenize corpus\n",
    "tokens = nltk.word_tokenize(corpus)\n",
    "\n",
    "# Perform WSD on \"bass\"\n",
    "sense = lesk(tokens, \"to\")\n",
    "\n",
    "# Print definition of which makes most sense\n",
    "print(sense.definition())"
   ]
  },
  {
   "cell_type": "code",
   "execution_count": 2,
   "id": "4234a9ff-7e3b-4833-9e2b-3eef8d221882",
   "metadata": {},
   "outputs": [
    {
     "name": "stdout",
     "output_type": "stream",
     "text": [
      "He\n",
      "a very light colorless element that is one of the six inert gasses; the most difficult gas to liquefy; occurs in economically extractable amounts in certain natural gases (as those found in Texas and Kansas)\n",
      "went\n",
      "stretch out over a distance, space, time, or scope; run or extend between two points or beyond a certain point\n",
      "town\n",
      "United States architect who was noted for his design and construction of truss bridges (1784-1844)\n"
     ]
    }
   ],
   "source": [
    "import nltk\n",
    "from nltk.corpus import semcor\n",
    "from nltk.wsd import lesk\n",
    "\n",
    "# Load SemCor corpus\n",
    "corpus = semcor.raw()\n",
    "\n",
    "# Tokenize corpus\n",
    "tokens = nltk.word_tokenize(corpus)\n",
    "sentence = \"He went town\"\n",
    "sent_tok = sentence.split()\n",
    "for i in sent_tok:\n",
    "    print(i)\n",
    "    # Perform WSD on \"bass\"\n",
    "    sense = lesk(tokens, i)\n",
    "    # Print definition of which makes most sense\n",
    "    print(sense.definition())"
   ]
  },
  {
   "cell_type": "code",
   "execution_count": 3,
   "id": "c8a77d52-91a4-4c80-a7a4-ee275e1fe923",
   "metadata": {},
   "outputs": [
    {
     "name": "stdout",
     "output_type": "stream",
     "text": [
      "Synset name :   duck.n.01\n",
      "\n",
      "Synset meaning :  small wild or domesticated web-footed broad-billed swimming bird usually having a depressed body and short legs\n",
      "\n",
      "Synset example :  []\n"
     ]
    }
   ],
   "source": [
    "# Using WordNet\n",
    "\n",
    "from nltk.corpus import wordnet\n",
    "syn = wordnet.synsets('duck')[0]\n",
    " \n",
    "print (\"Synset name :  \", syn.name())\n",
    " \n",
    "# Defining the word\n",
    "print (\"\\nSynset meaning : \", syn.definition())\n",
    " \n",
    "# list of phrases that use the word in context\n",
    "print (\"\\nSynset example : \", syn.examples())"
   ]
  },
  {
   "cell_type": "code",
   "execution_count": 1,
   "id": "f8dac1fd-1c46-4a24-8387-83f67c34def0",
   "metadata": {},
   "outputs": [
    {
     "name": "stdout",
     "output_type": "stream",
     "text": [
      "['John walked over to the bank to deposit his paycheck.', 'The sun was setting, and the gentle waves lapped against the riverbank.', 'He decided to sit down and enjoy the view for a while before heading home.']\n",
      "['John', 'walked', 'over', 'to', 'the', 'bank', 'to', 'deposit', 'his', 'paycheck', '.']\n",
      "Word: bank\n",
      "Sense: bank.v.07\n",
      "Definition: cover with ashes so to control the rate of burning\n",
      "\n",
      "Word: bank\n",
      "Sense: depository_financial_institution.n.01\n",
      "Definition: a financial institution that accepts deposits and channels the money into lending activities\n",
      "\n",
      "Word: deposit\n",
      "Sense: down_payment.n.01\n",
      "Definition: a partial payment made at the time of purchase; the balance to be paid later\n",
      "\n"
     ]
    }
   ],
   "source": [
    "# Question 1\n",
    "\n",
    "import nltk\n",
    "from nltk.wsd import lesk\n",
    "from nltk.corpus import wordnet as wn\n",
    "from nltk.tokenize import word_tokenize\n",
    "\n",
    "# Sample paragraph\n",
    "\n",
    "paragraph = \"John walked over to the bank to deposit his paycheck. The sun was setting, and the gentle waves lapped against the riverbank. He decided to sit down and enjoy the view for a while before heading home.\"\n",
    "#paragraph = \"The pitcher stood on the mound, ready to throw the ball. After the game, he drank from a glass pitcher of water. As the night got colder, he stands. He couldn’t help but feel a slight chill in the air as he packed his bag and walked out.\"\n",
    "\n",
    "# Tokenizing the paragraph into sentences and words\n",
    "\n",
    "sentences = nltk.sent_tokenize(paragraph)\n",
    "print(sentences)\n",
    "\n",
    "tokens = [word_tokenize(sentence) for sentence in sentences]\n",
    "print(tokens[0])\n",
    "\n",
    "# Function to apply Lesk algorithm and print the sense for ambiguous words\n",
    "\n",
    "def disambiguate_word(word, sentence):\n",
    "    sense = lesk(sentence, word)\n",
    "    if sense:\n",
    "        print(f\"Word: {word}\\nSense: {sense.name()}\\nDefinition: {sense.definition()}\\n\")\n",
    "    else:\n",
    "        print(f\"Word: {word} - No suitable sense found using Lesk algorithm.\\n\")\n",
    "\n",
    "# Disambiguating the word \"bank\" in both contexts\n",
    "disambiguate_word('bank', tokens[0])  # First sentence with \"bank\" as financial institution\n",
    "disambiguate_word('bank', tokens[1])  # Second sentence with \"bank\" as riverbank\n",
    "\n",
    "# Disambiguating the word \"deposit\" in the first sentence\n",
    "disambiguate_word('deposit', tokens[0])\n"
   ]
  },
  {
   "cell_type": "code",
   "execution_count": 5,
   "id": "afb5372e-60f4-4fc8-afa4-749177988b23",
   "metadata": {},
   "outputs": [
    {
     "name": "stderr",
     "output_type": "stream",
     "text": [
      "[nltk_data] Downloading package wordnet to\n",
      "[nltk_data]     /Users/sandeepkumar/nltk_data...\n",
      "[nltk_data]   Package wordnet is already up-to-date!\n",
      "[nltk_data] Downloading package punkt to\n",
      "[nltk_data]     /Users/sandeepkumar/nltk_data...\n",
      "[nltk_data]   Package punkt is already up-to-date!\n"
     ]
    },
    {
     "data": {
      "text/plain": [
       "True"
      ]
     },
     "execution_count": 5,
     "metadata": {},
     "output_type": "execute_result"
    }
   ],
   "source": [
    "# Question 3\n",
    "\n",
    "import nltk\n",
    "from nltk.wsd import lesk\n",
    "from nltk.tokenize import word_tokenize\n",
    "from nltk.corpus import wordnet as wn\n",
    "\n",
    "# Download required NLTK data\n",
    "nltk.download('wordnet')\n",
    "nltk.download('punkt')\n"
   ]
  },
  {
   "cell_type": "code",
   "execution_count": 6,
   "id": "361e1a4c-5c61-4a1a-9104-bdfd4a35e9cd",
   "metadata": {},
   "outputs": [],
   "source": [
    "sentences = [\n",
    "    \"The bark of the dog was loud enough to wake the neighbors.\",\n",
    "    \"The tree's bark was rough and covered with moss.\",\n",
    "    \"She decided to buy a new bark collar for her pet.\",\n",
    "    \"The boat was secured at the dock by a thick rope tied to the bark.\",\n",
    "    \"The scientist studied the bark samples to understand tree diseases.\"\n",
    "]\n"
   ]
  },
  {
   "cell_type": "code",
   "execution_count": 7,
   "id": "2b275566-4511-49df-ace6-2092bc1dba72",
   "metadata": {},
   "outputs": [
    {
     "name": "stdout",
     "output_type": "stream",
     "text": [
      "['the', 'bark', 'of', 'the', 'dog', 'was', 'loud', 'enough', 'to', 'wake', 'the', 'neighbors', '.']\n",
      "Sentence: The bark of the dog was loud enough to wake the neighbors.\n",
      "Sense: bark.n.02\n",
      "Definition: a noise resembling the bark of a dog\n",
      "\n",
      "['the', 'tree', \"'s\", 'bark', 'was', 'rough', 'and', 'covered', 'with', 'moss', '.']\n",
      "Sentence: The tree's bark was rough and covered with moss.\n",
      "Sense: bark.v.03\n",
      "Definition: remove the bark of a tree\n",
      "\n",
      "['she', 'decided', 'to', 'buy', 'a', 'new', 'bark', 'collar', 'for', 'her', 'pet', '.']\n",
      "Sentence: She decided to buy a new bark collar for her pet.\n",
      "Sense: bark.v.03\n",
      "Definition: remove the bark of a tree\n",
      "\n",
      "['the', 'boat', 'was', 'secured', 'at', 'the', 'dock', 'by', 'a', 'thick', 'rope', 'tied', 'to', 'the', 'bark', '.']\n",
      "Sentence: The boat was secured at the dock by a thick rope tied to the bark.\n",
      "Sense: bark.v.03\n",
      "Definition: remove the bark of a tree\n",
      "\n",
      "['the', 'scientist', 'studied', 'the', 'bark', 'samples', 'to', 'understand', 'tree', 'diseases', '.']\n",
      "Sentence: The scientist studied the bark samples to understand tree diseases.\n",
      "Sense: bark.v.03\n",
      "Definition: remove the bark of a tree\n",
      "\n"
     ]
    }
   ],
   "source": [
    "for sentence in sentences:\n",
    "    context = word_tokenize(sentence.lower())\n",
    "    print(context)\n",
    "    sense = lesk(context, 'bark')\n",
    "    print(f\"Sentence: {sentence}\")\n",
    "    print(f\"Sense: {sense.name() if sense else 'No sense found'}\")\n",
    "    print(f\"Definition: {sense.definition() if sense else 'No definition available'}\\n\")\n"
   ]
  },
  {
   "cell_type": "code",
   "execution_count": null,
   "id": "a4ed9562-7505-49f1-9104-bc59a7f84349",
   "metadata": {},
   "outputs": [
    {
     "name": "stdout",
     "output_type": "stream",
     "text": [
      "Synset: bat.n.01\n",
      "Definition: nocturnal mouselike mammal with forelimbs modified to form membranous wings and anatomical adaptations for echolocation by which they navigate\n",
      "Example Sentences: []\n",
      "\n",
      "Synset: bat.n.02\n",
      "Definition: (baseball) a turn trying to get a hit\n",
      "Example Sentences: ['he was at bat when it happened', 'he got four hits in four at-bats']\n",
      "\n",
      "Synset: squash_racket.n.01\n",
      "Definition: a small racket with a long handle used for playing squash\n",
      "Example Sentences: []\n",
      "\n",
      "Synset: cricket_bat.n.01\n",
      "Definition: the club used in playing cricket\n",
      "Example Sentences: ['a cricket bat has a narrow handle and a broad flat end for hitting']\n",
      "\n",
      "Synset: bat.n.05\n",
      "Definition: a club used for hitting a ball in various games\n",
      "Example Sentences: []\n",
      "\n",
      "Synset: bat.v.01\n",
      "Definition: strike with, or as if with a baseball bat\n",
      "Example Sentences: ['bat the ball']\n",
      "\n",
      "Synset: bat.v.02\n",
      "Definition: wink briefly\n",
      "Example Sentences: [\"bat one's eyelids\"]\n",
      "\n",
      "Synset: bat.v.03\n",
      "Definition: have a turn at bat\n",
      "Example Sentences: ['Jones bats first, followed by Martinez']\n",
      "\n",
      "Synset: bat.v.04\n",
      "Definition: use a bat\n",
      "Example Sentences: [\"Who's batting?\"]\n",
      "\n",
      "Synset: cream.v.02\n",
      "Definition: beat thoroughly and conclusively in a competition or fight\n",
      "Example Sentences: ['We licked the other team on Sunday!']\n",
      "\n"
     ]
    }
   ],
   "source": [
    "# Question 4\n",
    "\n",
    "from nltk.corpus import wordnet as wn\n",
    "\n",
    "# Get all synsets (senses) for the word \"bat\"\n",
    "synsets = wn.synsets('bat')\n",
    "\n",
    "# Display synsets and their definitions\n",
    "for synset in synsets:\n",
    "    print(f\"Synset: {synset.name()}\")\n",
    "    print(f\"Definition: {synset.definition()}\")\n",
    "    print(f\"Example Sentences: {synset.examples()}\")\n",
    "    print()\n"
   ]
  },
  {
   "cell_type": "code",
   "execution_count": null,
   "id": "36020bf9-178a-45be-976d-2ba22b7f24e0",
   "metadata": {},
   "outputs": [],
   "source": []
  }
 ],
 "metadata": {
  "kernelspec": {
   "display_name": "Python 3 (ipykernel)",
   "language": "python",
   "name": "python3"
  },
  "language_info": {
   "codemirror_mode": {
    "name": "ipython",
    "version": 3
   },
   "file_extension": ".py",
   "mimetype": "text/x-python",
   "name": "python",
   "nbconvert_exporter": "python",
   "pygments_lexer": "ipython3",
   "version": "3.11.7"
  }
 },
 "nbformat": 4,
 "nbformat_minor": 5
}
