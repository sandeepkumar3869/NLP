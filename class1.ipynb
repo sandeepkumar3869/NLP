{
 "cells": [
  {
   "cell_type": "markdown",
   "metadata": {},
   "source": [
    "name = sandeep kumar\n",
    "class 4mscdsa\n",
    "roll no. = 23122048"
   ]
  },
  {
   "cell_type": "code",
   "execution_count": 1,
   "metadata": {},
   "outputs": [],
   "source": [
    "import re\n",
    "import nltk\n",
    "import string\n",
    "\n",
    "\n",
    "\n"
   ]
  },
  {
   "cell_type": "markdown",
   "metadata": {},
   "source": []
  },
  {
   "cell_type": "markdown",
   "metadata": {},
   "source": [
    "3. Write a Python Program to validate the Password using regular expression such that\"\n",
    "Password should start with Uppercase letter or lowercase letter\n",
    "It should contain at least one uppercase and one lowercase letter\n",
    "It should contain at least one digit and one special symbol from @, #, $, &, *, !\n",
    "Length of the password should be >= 10"
   ]
  },
  {
   "cell_type": "code",
   "execution_count": 2,
   "metadata": {},
   "outputs": [],
   "source": [
    "def strong_password(password):\n",
    "    if len(password)>9:\n",
    "        pass\n",
    "    else:\n",
    "        return \"ur password is less than 8\"\n",
    "    if re.match('[a-z]',password)  or re.match('[A-Z]',password) :\n",
    "        pass\n",
    "    else:\n",
    "        return \"ur password does not start with  lower case or upper case alphabet\"\n",
    "    if re.search(r'\\d',password):\n",
    "        pass\n",
    "    else:\n",
    "        return \"ur password dont have any numeric character\"\n",
    "    if re.search('[A-Z]',password):\n",
    "        pass\n",
    "    else:\n",
    "        return \"ur password dont have any upper case  character\"\n",
    "    if re.search('[a-z]',password):\n",
    "        pass\n",
    "    else:\n",
    "        return \"ur password dont have any lower case  character\"\n",
    "    if re.search('[~!@#$%^&*()_+<>]',password):\n",
    "        pass\n",
    "    else:\n",
    "        return \"ur password dont have any special character\"\n",
    "    \n",
    "    return \"UR PASSWORD IS STORANG\"\n",
    "    "
   ]
  },
  {
   "cell_type": "code",
   "execution_count": 3,
   "metadata": {},
   "outputs": [
    {
     "name": "stdout",
     "output_type": "stream",
     "text": [
      "ur password is less than 8\n"
     ]
    }
   ],
   "source": [
    "password = input(\"enter the password : \")\n",
    "\n",
    "\n",
    "print(strong_password(password))\n"
   ]
  },
  {
   "cell_type": "markdown",
   "metadata": {},
   "source": []
  },
  {
   "cell_type": "markdown",
   "metadata": {},
   "source": [
    "Write a Python program that checks whether a\n",
    "given phone number is valid based on the format XXX-XXX-XXXX, where each X is a  digit."
   ]
  },
  {
   "cell_type": "code",
   "execution_count": 4,
   "metadata": {},
   "outputs": [
    {
     "name": "stdout",
     "output_type": "stream",
     "text": [
      "number should be all numeric chracter and has 10 no. only \n"
     ]
    }
   ],
   "source": [
    "def mobile(no):\n",
    "    if re.search(r'\\d..........',no):\n",
    "        pass\n",
    "    \n",
    "    else:\n",
    "        return \"number should be all numeric chracter and has 10 no. only \"    \n",
    "    if re.match(r'\\+91',no):\n",
    "        pass\n",
    "    else:\n",
    "        return \"should start from +91\"\n",
    "    return \"we noted ur mobile no.\"\n",
    "\n",
    "\n",
    "\n",
    "no = input(\"enter the mobile no. : \")\n",
    "\n",
    "print(mobile(no))"
   ]
  },
  {
   "cell_type": "markdown",
   "metadata": {},
   "source": [
    "1. Write a Python program to search for literal strings within a string.\n",
    "    Sample text : 'The quick brown fox jumps over the lazy dog.'\n",
    "\n",
    "    Searched words : 'fox', 'dog', 'horse’\n"
   ]
  },
  {
   "cell_type": "code",
   "execution_count": 5,
   "metadata": {},
   "outputs": [
    {
     "name": "stdout",
     "output_type": "stream",
     "text": [
      "fox  is there in provided statement\n",
      "dog  is there in provided statement\n",
      "horse  is not  there in provided statement\n"
     ]
    }
   ],
   "source": [
    "text = \"The quick brown fox jumps over the lazy dog\"\n",
    "\n",
    "search = [\"fox\",\"dog\",\"horse\"]\n",
    "\n",
    "for i in search:\n",
    "    if re.search(i,text):\n",
    "        print(i,\" is there in provided statement\")\n",
    "\n",
    "    else:\n",
    "        print(i,\" is not  there in provided statement\")\n"
   ]
  },
  {
   "cell_type": "markdown",
   "metadata": {},
   "source": [
    "2. Write a Python Program to accept the email-id and validate it using Regular Expression"
   ]
  },
  {
   "cell_type": "code",
   "execution_count": 6,
   "metadata": {},
   "outputs": [
    {
     "name": "stdout",
     "output_type": "stream",
     "text": [
      " gmail should be in proper format\n"
     ]
    }
   ],
   "source": [
    "pattern = r'^[a-z0-9]+[._]*[a-z0-9]+@[a-z]+\\.[a-z]+'\n",
    "def gmail(gml):\n",
    "    if re.match(pattern ,gml):\n",
    "        pass\n",
    "    else:\n",
    "        return \" gmail should be in proper format\"\n",
    "    return \"ur gmail is  created : \"+gml\n",
    "gml = input(\"enter  ur gmail : \")   \n",
    "\n",
    "print(gmail(gml))"
   ]
  },
  {
   "cell_type": "markdown",
   "metadata": {},
   "source": [
    " Write a Python program to Validate a URL using regular expression: \n",
    "    Example: https://www.google.com"
   ]
  },
  {
   "cell_type": "code",
   "execution_count": 7,
   "metadata": {},
   "outputs": [
    {
     "name": "stdout",
     "output_type": "stream",
     "text": [
      "not a valid url\n"
     ]
    }
   ],
   "source": [
    "# patter = r'^[https://]+[a-z]+[.com]'\n",
    "\n",
    "patter = r'^https://www\\.[a-z0-9]+\\.[a-z]{2,3}$'\n",
    "def website(url):\n",
    "    if re.search(patter,url):\n",
    "        pass\n",
    "    else:\n",
    "        return \"not a valid url\"\n",
    "    \n",
    "    # if re.search('[.]',url):\n",
    "    #     pass\n",
    "\n",
    "    # else:\n",
    "    #     return \" not a valid url\"\n",
    "    \n",
    "    return \"url is valid\"\n",
    "\n",
    "\n",
    "url = input(\"enter the valid url : \")\n",
    "\n",
    "print(website(url))\n",
    "\n",
    "\n",
    "\n",
    "        \n"
   ]
  }
 ],
 "metadata": {
  "kernelspec": {
   "display_name": "base",
   "language": "python",
   "name": "python3"
  },
  "language_info": {
   "codemirror_mode": {
    "name": "ipython",
    "version": 3
   },
   "file_extension": ".py",
   "mimetype": "text/x-python",
   "name": "python",
   "nbconvert_exporter": "python",
   "pygments_lexer": "ipython3",
   "version": "3.11.7"
  }
 },
 "nbformat": 4,
 "nbformat_minor": 2
}
