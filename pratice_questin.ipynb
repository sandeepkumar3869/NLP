{
 "cells": [
  {
   "cell_type": "code",
   "execution_count": null,
   "metadata": {},
   "outputs": [
    {
     "name": "stdout",
     "output_type": "stream",
     "text": [
      "+ve \n"
     ]
    }
   ],
   "source": [
    "def greater(num):\n",
    "    if(num>0):\n",
    "        print(\"+ve \")\n",
    "    else:\n",
    "        print(\"-ve\")\n",
    "num1 = int(input(\"enter the no. : \"))\n",
    "\n",
    "greater(num1)"
   ]
  },
  {
   "cell_type": "code",
   "execution_count": null,
   "metadata": {},
   "outputs": [],
   "source": [
    "num = int(input(\"enter the no. : \"))\n",
    "\n",
    "if(num%3 == 0):\n",
    "    print(\"yes divisible by3\")\n",
    "else:\n",
    "    print(\"not divisibble\")\n"
   ]
  },
  {
   "cell_type": "code",
   "execution_count": null,
   "metadata": {},
   "outputs": [
    {
     "name": "stdout",
     "output_type": "stream",
     "text": [
      "first no. is in between the rest two\n"
     ]
    }
   ],
   "source": [
    "num = int(input(\"enter the no. : \"))\n",
    "num2 = int(input(\"enter the no. : \"))\n",
    "num3 = int(input(\"enter the no. : \"))\n",
    "\n",
    "\n",
    "if(num>num2 and num<num3):\n",
    "    print(\"first no. is in between the rest two\")\n",
    "else:\n",
    "    print(\"no seq\")\n",
    "    "
   ]
  },
  {
   "cell_type": "code",
   "execution_count": null,
   "metadata": {},
   "outputs": [
    {
     "name": "stdout",
     "output_type": "stream",
     "text": [
      "distinction\n"
     ]
    }
   ],
   "source": [
    "marks = float(input(\"enter the marks : \"))\n",
    "\n",
    "if(marks>75):\n",
    "    print(\"distinction\")\n",
    "elif(marks<=60 and marks<75):\n",
    "    print(\"first class\")\n",
    "elif(marks<=50 and marks<60):\n",
    "    print(\"second class\")\n",
    "elif(marks<=40 and marks<50):\n",
    "    print(\"pass class marks\"\n",
    "    )\n",
    "else:\n",
    "    print(\"fail\")"
   ]
  },
  {
   "cell_type": "code",
   "execution_count": null,
   "metadata": {},
   "outputs": [
    {
     "name": "stdout",
     "output_type": "stream",
     "text": [
      "2\n",
      "4\n",
      "6\n",
      "8\n"
     ]
    }
   ],
   "source": [
    "\n",
    "\n",
    "for i in range(1,10):\n",
    "    if (i%2==0):\n",
    "        print(i)  "
   ]
  },
  {
   "cell_type": "code",
   "execution_count": null,
   "metadata": {},
   "outputs": [
    {
     "name": "stdout",
     "output_type": "stream",
     "text": [
      "even\n",
      "even\n",
      "even\n",
      "ODD\n",
      "even\n",
      "even\n"
     ]
    }
   ],
   "source": [
    "num1 = int(input(\"how many  no. u want to enter : \"))\n",
    "\n",
    "for i in range(num1):\n",
    "    num = int(input(\"enter the no. : \"))\n",
    "    if (num%2==0):\n",
    "        print(\"even\") \n",
    "    elif (num%2 != 0):\n",
    "        print(\"ODD\") \n",
    "    elif (num ==0):\n",
    "        print(\"even\")   \n",
    "\n",
    "\n"
   ]
  },
  {
   "cell_type": "code",
   "execution_count": null,
   "metadata": {},
   "outputs": [
    {
     "name": "stdout",
     "output_type": "stream",
     "text": [
      "prime\n"
     ]
    }
   ],
   "source": [
    "num = int(input(\"enter the no. : \"))\n",
    "if (num ==2):\n",
    "    print(\"prime no.\")\n",
    "elif (num%2 != 0):\n",
    "        print(\"prime\")\n",
    "else:\n",
    "      print(\" not prime\")\n",
    "\n",
    "      \n"
   ]
  },
  {
   "cell_type": "code",
   "execution_count": null,
   "metadata": {},
   "outputs": [
    {
     "name": "stdout",
     "output_type": "stream",
     "text": [
      "1  is minimum\n"
     ]
    }
   ],
   "source": [
    "def min(num1,num2):\n",
    "    if(num1>num2):\n",
    "        print(num2,\" is minimum\")\n",
    "    elif(num2>num1):\n",
    "        print(num1,\" is minimum\")\n",
    "\n",
    "num2 = int(input(\"enter the no. : \"))\n",
    "num3 = int(input(\"enter the no. : \"))\n",
    "\n",
    "\n",
    "min(\n",
    "    num2,num3\n",
    ")\n",
    "   "
   ]
  },
  {
   "cell_type": "code",
   "execution_count": null,
   "metadata": {},
   "outputs": [
    {
     "name": "stdout",
     "output_type": "stream",
     "text": [
      "5\n",
      "10\n",
      "15\n",
      "20\n",
      "25\n",
      "30\n",
      "35\n",
      "40\n",
      "45\n",
      "50\n",
      "55\n",
      "60\n",
      "65\n",
      "70\n",
      "75\n",
      "80\n",
      "85\n",
      "90\n",
      "95\n",
      "100\n"
     ]
    }
   ],
   "source": [
    "\n",
    "i = 1\n",
    "while(True):\n",
    "    if (i%5 == 0):\n",
    "        print(i)\n",
    "        i= i+1\n",
    "    else:   \n",
    "        i= i+1\n",
    "\n",
    "    if(i>101):\n",
    "        break  \n",
    "\n",
    "\n",
    "    "
   ]
  },
  {
   "cell_type": "code",
   "execution_count": null,
   "metadata": {},
   "outputs": [
    {
     "name": "stdout",
     "output_type": "stream",
     "text": [
      "5\n"
     ]
    }
   ],
   "source": [
    "def sum(num1,num2):\n",
    "    summ = num1+num2\n",
    "    print(summ)\n",
    "\n",
    "\n",
    "sum(2,3)"
   ]
  },
  {
   "cell_type": "code",
   "execution_count": null,
   "metadata": {},
   "outputs": [
    {
     "name": "stdout",
     "output_type": "stream",
     "text": [
      "hel\n"
     ]
    }
   ],
   "source": [
    "word = \"hellow\"\n",
    "\n",
    "print(word[0:3])"
   ]
  },
  {
   "cell_type": "code",
   "execution_count": 5,
   "metadata": {},
   "outputs": [
    {
     "name": "stdout",
     "output_type": "stream",
     "text": [
      "fgjkl\n",
      "FGJKL\n",
      "Fgjkl\n"
     ]
    }
   ],
   "source": [
    "sv = \"fgjkl\"\n",
    "\n",
    "print(sv.lower())\n",
    "print(sv.upper())\n",
    "print(sv.capitalize())"
   ]
  },
  {
   "cell_type": "code",
   "execution_count": 6,
   "metadata": {},
   "outputs": [
    {
     "data": {
      "text/plain": [
       "'!\"#$%&\\'()*+,-./:;<=>?@[\\\\]^_`{|}~'"
      ]
     },
     "execution_count": 6,
     "metadata": {},
     "output_type": "execute_result"
    }
   ],
   "source": [
    "import string\n",
    "\n",
    "\n",
    "\n",
    "string.punctuation"
   ]
  },
  {
   "cell_type": "code",
   "execution_count": null,
   "metadata": {},
   "outputs": [],
   "source": []
  }
 ],
 "metadata": {
  "kernelspec": {
   "display_name": "base",
   "language": "python",
   "name": "python3"
  },
  "language_info": {
   "codemirror_mode": {
    "name": "ipython",
    "version": 3
   },
   "file_extension": ".py",
   "mimetype": "text/x-python",
   "name": "python",
   "nbconvert_exporter": "python",
   "pygments_lexer": "ipython3",
   "version": "3.11.7"
  }
 },
 "nbformat": 4,
 "nbformat_minor": 2
}
