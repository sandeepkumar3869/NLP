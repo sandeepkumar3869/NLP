{
 "cells": [
  {
   "cell_type": "code",
   "execution_count": 34,
   "metadata": {},
   "outputs": [],
   "source": [
    "import nltk,re\n",
    "from nltk import word_tokenize,sent_tokenize\n"
   ]
  },
  {
   "cell_type": "code",
   "execution_count": 35,
   "metadata": {},
   "outputs": [],
   "source": [
    "sent = \"The bark of the dog was loud enough to wake the neighbors.The tree's bark was rough and covered with moss.She decided to buy a new bark collar for her pet.The boat was secured at the dock by a thick rope tied to the bark.The scientist studied the bark samples to understand tree diseases .\""
   ]
  },
  {
   "cell_type": "code",
   "execution_count": 36,
   "metadata": {},
   "outputs": [
    {
     "data": {
      "text/plain": [
       "[\"The bark of the dog was loud enough to wake the neighbors.The tree's bark was rough and covered with moss.She decided to buy a new bark collar for her pet.The boat was secured at the dock by a thick rope tied to the bark.The scientist studied the bark samples to understand tree diseases .\"]"
      ]
     },
     "execution_count": 36,
     "metadata": {},
     "output_type": "execute_result"
    }
   ],
   "source": [
    "sentence = nltk.sent_tokenize(sent)\n",
    "sentence"
   ]
  }
 ],
 "metadata": {
  "kernelspec": {
   "display_name": "base",
   "language": "python",
   "name": "python3"
  },
  "language_info": {
   "codemirror_mode": {
    "name": "ipython",
    "version": 3
   },
   "file_extension": ".py",
   "mimetype": "text/x-python",
   "name": "python",
   "nbconvert_exporter": "python",
   "pygments_lexer": "ipython3",
   "version": "3.11.7"
  }
 },
 "nbformat": 4,
 "nbformat_minor": 2
}
