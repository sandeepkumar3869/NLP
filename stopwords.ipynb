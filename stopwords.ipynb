{
 "cells": [
  {
   "cell_type": "code",
   "execution_count": 1,
   "metadata": {},
   "outputs": [],
   "source": [
    "import nltk\n"
   ]
  },
  {
   "cell_type": "code",
   "execution_count": 7,
   "metadata": {},
   "outputs": [
    {
     "name": "stdout",
     "output_type": "stream",
     "text": [
      "['i', 'me', 'my', 'myself', 'we', 'our', 'ours', 'ourselves', 'you', \"you're\", \"you've\", \"you'll\", \"you'd\", 'your', 'yours', 'yourself', 'yourselves', 'he', 'him', 'his', 'himself', 'she', \"she's\", 'her', 'hers', 'herself', 'it', \"it's\", 'its', 'itself', 'they', 'them', 'their', 'theirs', 'themselves', 'what', 'which', 'who', 'whom', 'this', 'that', \"that'll\", 'these', 'those', 'am', 'is', 'are', 'was', 'were', 'be', 'been', 'being', 'have', 'has', 'had', 'having', 'do', 'does', 'did', 'doing', 'a', 'an', 'the', 'and', 'but', 'if', 'or', 'because', 'as', 'until', 'while', 'of', 'at', 'by', 'for', 'with', 'about', 'against', 'between', 'into', 'through', 'during', 'before', 'after', 'above', 'below', 'to', 'from', 'up', 'down', 'in', 'out', 'on', 'off', 'over', 'under', 'again', 'further', 'then', 'once', 'here', 'there', 'when', 'where', 'why', 'how', 'all', 'any', 'both', 'each', 'few', 'more', 'most', 'other', 'some', 'such', 'no', 'nor', 'not', 'only', 'own', 'same', 'so', 'than', 'too', 'very', 's', 't', 'can', 'will', 'just', 'don', \"don't\", 'should', \"should've\", 'now', 'd', 'll', 'm', 'o', 're', 've', 'y', 'ain', 'aren', \"aren't\", 'couldn', \"couldn't\", 'didn', \"didn't\", 'doesn', \"doesn't\", 'hadn', \"hadn't\", 'hasn', \"hasn't\", 'haven', \"haven't\", 'isn', \"isn't\", 'ma', 'mightn', \"mightn't\", 'mustn', \"mustn't\", 'needn', \"needn't\", 'shan', \"shan't\", 'shouldn', \"shouldn't\", 'wasn', \"wasn't\", 'weren', \"weren't\", 'won', \"won't\", 'wouldn', \"wouldn't\"]\n"
     ]
    }
   ],
   "source": [
    "stp = nltk.corpus.stopwords.words('english')\n",
    "print(stp)"
   ]
  },
  {
   "cell_type": "code",
   "execution_count": 8,
   "metadata": {},
   "outputs": [],
   "source": [
    "from nltk.corpus import semcor\n",
    "from nltk.wsd import lesk\n",
    "\n",
    "prompt = input(\"enter the prompt : \")\n",
    "prompt = nltk.word_tokenize(prompt)\n",
    "\n",
    "corpus = semcor.raw()\n",
    "\n",
    "token = nltk.word_tokenize(corpus)\n",
    "print(token)\n",
    "\n",
    "\n",
    "for i in prompt:\n",
    "    sense = lesk(token,prompt) #here we have to provide the list of word and in second place only word\n",
    "    if sense:\n",
    "\n",
    "\n",
    "    \n",
    "        print(sense.definition())\n",
    "    else:\n",
    "        print(\"no meaning\")"
   ]
  },
  {
   "cell_type": "code",
   "execution_count": 17,
   "metadata": {},
   "outputs": [
    {
     "name": "stdout",
     "output_type": "stream",
     "text": [
      "['they pulled the canoe up on the bank', 'he sat on the bank of the river and watched the currents']\n",
      "sloping land (especially the slope beside a body of water)\n",
      "['he cashed a check at the bank', 'that bank holds the mortgage on my home']\n",
      "a financial institution that accepts deposits and channels the money into lending activities\n",
      "['a huge bank of earth']\n",
      "a long ridge or pile\n",
      "['he operated a bank of switches']\n",
      "an arrangement of similar objects in a row or in tiers\n",
      "[]\n",
      "a supply or stock held in reserve for future use (especially in emergencies)\n",
      "['he tried to break the bank at Monte Carlo']\n",
      "the funds held by a gambling house or the dealer in some gambling games\n",
      "[]\n",
      "a slope in the turn of a road or track; the outside is higher than the inside in order to reduce the effects of centrifugal force\n",
      "['the coin bank was empty']\n",
      "a container (usually with a slot in the top) for keeping money at home\n",
      "['the bank is on the corner of Nassau and Witherspoon']\n",
      "a building in which the business of banking transacted\n",
      "['the plane went into a steep bank']\n",
      "a flight maneuver; aircraft tips laterally about its longitudinal axis (especially in turning)\n",
      "['the pilot had to bank the aircraft']\n",
      "tip laterally\n",
      "['bank roads']\n",
      "enclose with a bank\n",
      "['Where do you bank in this town?']\n",
      "do business with a bank or keep an account at a bank\n",
      "[]\n",
      "act as the banker in a game or in gambling\n",
      "[]\n",
      "be in the banking business\n",
      "['She deposits her paycheck every month']\n",
      "put into a bank account\n",
      "['bank a fire']\n",
      "cover with ashes so to control the rate of burning\n",
      "['We can trust in God', 'Rely on your friends', 'bank on your good education', \"I swear by my grandmother's recipes\"]\n",
      "have confidence or faith in\n"
     ]
    }
   ],
   "source": [
    "from nltk.corpus import wordnet\n",
    "\n",
    "syn = wordnet.synsets(\"bank\")\n",
    "\n",
    "# print[syn]\n",
    "for i in syn:\n",
    "    print(i.examples())\n",
    "    print(i.definition())\n"
   ]
  }
 ],
 "metadata": {
  "kernelspec": {
   "display_name": "base",
   "language": "python",
   "name": "python3"
  },
  "language_info": {
   "codemirror_mode": {
    "name": "ipython",
    "version": 3
   },
   "file_extension": ".py",
   "mimetype": "text/x-python",
   "name": "python",
   "nbconvert_exporter": "python",
   "pygments_lexer": "ipython3",
   "version": "3.11.7"
  }
 },
 "nbformat": 4,
 "nbformat_minor": 2
}
